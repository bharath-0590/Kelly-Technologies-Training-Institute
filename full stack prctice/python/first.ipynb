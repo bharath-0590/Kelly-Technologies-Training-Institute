{
 "cells": [
  {
   "cell_type": "code",
   "execution_count": 2,
   "metadata": {},
   "outputs": [
    {
     "name": "stdout",
     "output_type": "stream",
     "text": [
      "600\n"
     ]
    }
   ],
   "source": [
    "#calculate the multiplication and sum of two numbers\n",
    "#given two integer numbers, return their product only if the product is equal to or lower than 1000. Otherwise, return their sum.\n",
    "\n",
    "def multiply_or_sum(n1, n2):\n",
    "    \n",
    "    pro = n1 * n2      #calculate if product is less than 1000\n",
    "    \n",
    "    if pro <= 1000:\n",
    "        return pro\n",
    "    else:\n",
    "        return n1 + n2\n",
    "\n",
    "res = multiply_or_sum(20,30)\n",
    "print(res)  \n",
    "    "
   ]
  },
  {
   "cell_type": "code",
   "execution_count": 6,
   "metadata": {},
   "outputs": [
    {
     "name": "stdout",
     "output_type": "stream",
     "text": [
      "list: [10, 30, 40, 50, 10]\n",
      "result True\n",
      "list: [97, 45, 38, 25, 60]\n",
      "result False\n"
     ]
    }
   ],
   "source": [
    "#check if the first and last number of a list is the same\n",
    "\n",
    "def firstlast_same(numlist):\n",
    "    print(\"list:\", numlist)\n",
    "    \n",
    "    first = numlist[0] \n",
    "    last = numlist[-1]\n",
    "    \n",
    "    if first == last:\n",
    "        return True\n",
    "    else:\n",
    "        return False\n",
    "\n",
    "number_x = [10,30,40,50,10]\n",
    "print(\"result\", firstlast_same(number_x))\n",
    "\n",
    "number_y = [97,45,38,25,60]\n",
    "print(\"result\", firstlast_same(number_y)) "
   ]
  },
  {
   "cell_type": "code",
   "execution_count": 11,
   "metadata": {},
   "outputs": [
    {
     "name": "stdout",
     "output_type": "stream",
     "text": [
      "original number 121\n",
      "reversed number 1\n",
      "original number 125\n",
      "reversed number 5\n"
     ]
    },
    {
     "data": {
      "text/plain": [
       "False"
      ]
     },
     "execution_count": 11,
     "metadata": {},
     "output_type": "execute_result"
    }
   ],
   "source": [
    "#check palindrome \n",
    "def is_palindrome(value):\n",
    "    print(\"original number\", value)\n",
    "    origibal_num = value \n",
    "    \n",
    "    reversed_num = 0               #reverse given number\n",
    "    while value > 0:\n",
    "        remainder = value % 10\n",
    "        reversed_num = (reversed_num * 10) + remainder\n",
    "        value = value // 10\n",
    "        print(\"reversed number\", reversed_num)\n",
    "        \n",
    "        if origibal_num == reversed_num:\n",
    "            return True\n",
    "        else:\n",
    "            return False\n",
    "        \n",
    "is_palindrome(121)\n",
    "is_palindrome(125)"
   ]
  },
  {
   "cell_type": "code",
   "execution_count": 1,
   "metadata": {},
   "outputs": [
    {
     "name": "stdout",
     "output_type": "stream",
     "text": [
      "20\n",
      "<class 'decimal.Decimal'>\n"
     ]
    }
   ],
   "source": [
    "#converting an integer into decimals\n",
    "\n",
    "import decimal\n",
    "integer = 20\n",
    "print(decimal.Decimal(integer)) \n",
    "print(type(decimal.Decimal(integer))) "
   ]
  },
  {
   "cell_type": "code",
   "execution_count": 4,
   "metadata": {},
   "outputs": [
    {
     "name": "stdout",
     "output_type": "stream",
     "text": [
      "12345\n",
      "<class 'decimal.Decimal'>\n"
     ]
    }
   ],
   "source": [
    "#converting an string of integers into decimals \n",
    "\n",
    "import decimal \n",
    "string = '12345'\n",
    "print(decimal.Decimal(string)) \n",
    "print(type(decimal.Decimal(string)))"
   ]
  },
  {
   "cell_type": "code",
   "execution_count": 5,
   "metadata": {},
   "outputs": [
    {
     "name": "stdout",
     "output_type": "stream",
     "text": [
      "repoleved nohtyp\n"
     ]
    }
   ],
   "source": [
    "#reversing a string using an extended slicing technique \n",
    "\n",
    "string = \"python developer\"\n",
    "print(string[::-1]) "
   ]
  },
  {
   "cell_type": "code",
   "execution_count": 6,
   "metadata": {},
   "outputs": [
    {
     "name": "stdout",
     "output_type": "stream",
     "text": [
      "4\n"
     ]
    }
   ],
   "source": [
    "#counting vowels \n",
    "\n",
    "vowel = ['a','e','i','o','u'] \n",
    "word = \"developer\"\n",
    "count =0 \n",
    "\n",
    "for char in word:\n",
    "    if char.lower() in vowel:\n",
    "        count += 1\n",
    "print(count)"
   ]
  },
  {
   "cell_type": "code",
   "execution_count": 16,
   "metadata": {},
   "outputs": [
    {
     "name": "stdout",
     "output_type": "stream",
     "text": [
      "9\n"
     ]
    }
   ],
   "source": [
    "#counting consonants \n",
    "\n",
    "vowel = ['a','e','i','o','u'] \n",
    "word = \" programming\"\n",
    "count = 0\n",
    "\n",
    "for char in word:\n",
    "    if char.lower() not in vowel:\n",
    "        count += 1\n",
    "print(count)"
   ]
  },
  {
   "cell_type": "code",
   "execution_count": 22,
   "metadata": {},
   "outputs": [
    {
     "name": "stdout",
     "output_type": "stream",
     "text": [
      "1\n"
     ]
    }
   ],
   "source": [
    "#counting the number of occurrences of a character in a string \n",
    "\n",
    "word = \"web development\" \n",
    "char = 'w'\n",
    "count = 0 \n",
    "\n",
    "for letter in word:\n",
    "    if letter == char:\n",
    "        count += 1\n",
    "print(count)  # Output: 1"
   ]
  },
  {
   "cell_type": "code",
   "execution_count": 28,
   "metadata": {},
   "outputs": [
    {
     "name": "stdout",
     "output_type": "stream",
     "text": [
      "[0, 1, 1]\n",
      "[0, 1, 1, 2]\n",
      "[0, 1, 1, 2, 3]\n",
      "[0, 1, 1, 2, 3, 5]\n",
      "[0, 1, 1, 2, 3, 5, 8]\n"
     ]
    }
   ],
   "source": [
    "#fibonacci series \n",
    "\n",
    "fib = [0,1]  \n",
    "\n",
    "#range starts from 0 by default\n",
    "for i in range(5):\n",
    "    fib.append(fib[i] + fib[i+1])   \n",
    "    print(fib)"
   ]
  },
  {
   "cell_type": "code",
   "execution_count": 29,
   "metadata": {},
   "outputs": [
    {
     "name": "stdout",
     "output_type": "stream",
     "text": [
      "78\n"
     ]
    }
   ],
   "source": [
    "#finding maximum number in list\n",
    "\n",
    "numlist = [45,78,27,34,21,3,6]\n",
    "\n",
    "maxNum = numlist[0] \n",
    "for num in numlist:\n",
    "    if num > maxNum:\n",
    "        maxNum = num\n",
    "        print(maxNum)  "
   ]
  },
  {
   "cell_type": "code",
   "execution_count": 2,
   "metadata": {},
   "outputs": [
    {
     "name": "stdout",
     "output_type": "stream",
     "text": [
      "2\n"
     ]
    }
   ],
   "source": [
    "#find the minimum number in list \n",
    "\n",
    "nlist = [34,89,2,5,6,78,23]\n",
    "\n",
    "minNum = nlist[0]\n",
    "for num in nlist:\n",
    "    if minNum > num:\n",
    "        minNum = num\n",
    "print(minNum)"
   ]
  },
  {
   "cell_type": "code",
   "execution_count": 5,
   "metadata": {},
   "outputs": [],
   "source": [
    "def f(x):\n",
    "    def f1(*args, **kwargs):\n",
    "        print(\"sanfoundary\")\n",
    "        return x(*args, **kwargs) \n",
    "    return f1"
   ]
  },
  {
   "cell_type": "code",
   "execution_count": 9,
   "metadata": {},
   "outputs": [],
   "source": [
    "def a(n):\n",
    "    if n==0:\n",
    "        return 0\n",
    "    else:\n",
    "        return n * a(n-1)\n",
    "def b(n,tot):\n",
    "    if n==0:\n",
    "        return tot\n",
    "    else:\n",
    "        return b(n-2,tot-2)"
   ]
  },
  {
   "cell_type": "code",
   "execution_count": 6,
   "metadata": {},
   "outputs": [
    {
     "name": "stdout",
     "output_type": "stream",
     "text": [
      "[1, 2, 3, 4, 5]\n"
     ]
    }
   ],
   "source": [
    "a= [1,2,3,4,5]\n",
    "b=lambda x:(b (x[1:]) + x[:1] if x else[])\n",
    "print((a))"
   ]
  },
  {
   "cell_type": "code",
   "execution_count": 12,
   "metadata": {},
   "outputs": [
    {
     "name": "stdout",
     "output_type": "stream",
     "text": [
      "Fibonacci series:\n",
      "0 1 1 2 3 5 "
     ]
    }
   ],
   "source": [
    "# Recursive function to calculate Fibonacci numbers\n",
    "def fibonacci(n):\n",
    "    if n <= 1:\n",
    "        return n\n",
    "    else:\n",
    "        return fibonacci(n-1) + fibonacci(n-2)\n",
    "\n",
    "# Define the number of terms\n",
    "n_terms = int(input(\"Enter the number of terms: \"))\n",
    "\n",
    "if n_terms <= 0:\n",
    "    print(\"Please enter a positive integer.\")\n",
    "else:\n",
    "    print(\"Fibonacci series:\")\n",
    "    for i in range(n_terms):\n",
    "        print(fibonacci(i), end=\" \")"
   ]
  },
  {
   "cell_type": "code",
   "execution_count": 13,
   "metadata": {},
   "outputs": [
    {
     "name": "stdout",
     "output_type": "stream",
     "text": [
      "Sum: 5\n"
     ]
    }
   ],
   "source": [
    "def add(a, b):\n",
    "    if b == 0:\n",
    "        return a\n",
    "    else:\n",
    "        sum_without_carry = a ^ b\n",
    "        carry = (a & b) << 1    \n",
    "        return add(sum_without_carry, carry)\n",
    "\n",
    "\n",
    "a = int(input(\"Enter the first integer: \"))\n",
    "b = int(input(\"Enter the second integer: \"))\n",
    "\n",
    "result = add(a, b)\n",
    "print(\"Sum:\", result)"
   ]
  },
  {
   "cell_type": "code",
   "execution_count": 14,
   "metadata": {},
   "outputs": [
    {
     "name": "stdout",
     "output_type": "stream",
     "text": [
      "Before the function call.\n",
      "Hello, World!\n",
      "After the function call.\n"
     ]
    }
   ],
   "source": [
    "def my_decorator(func):\n",
    "    def wrapper():\n",
    "        print(\"Before the function call.\")\n",
    "        func()\n",
    "        print(\"After the function call.\")\n",
    "    return wrapper\n",
    "\n",
    "@my_decorator\n",
    "def say_hello():\n",
    "    print(\"Hello, World!\")\n",
    "\n",
    "say_hello()"
   ]
  },
  {
   "cell_type": "code",
   "execution_count": 15,
   "metadata": {},
   "outputs": [
    {
     "name": "stdout",
     "output_type": "stream",
     "text": [
      "Name: John Doe, Age: 30, Salary: 50000\n"
     ]
    }
   ],
   "source": [
    "class Person:\n",
    "    def __init__(self, name, age):\n",
    "        self.name = name\n",
    "        self.age = age\n",
    "\n",
    "class Employee(Person):\n",
    "    def __init__(self, name, age, salary):\n",
    "        super().__init__(name, age)  \n",
    "        self.salary = salary\n",
    "\n",
    "    def display_employee_info(self):\n",
    "        print(f\"Name: {self.name}, Age: {self.age}, Salary: {self.salary}\")\n",
    "\n",
    "emp = Employee(\"John Doe\", 30, 50000)\n",
    "\n",
    "emp.display_employee_info()"
   ]
  },
  {
   "cell_type": "code",
   "execution_count": 16,
   "metadata": {},
   "outputs": [
    {
     "name": "stdout",
     "output_type": "stream",
     "text": [
      "Toyota Corolla\n"
     ]
    }
   ],
   "source": [
    "class Res:\n",
    "    def __init__(self, brand, model):  # Constructor\n",
    "        self.brand = brand\n",
    "        self.model = model\n",
    "\n",
    "res = Res(\"Toyota\", \"Corolla\")\n",
    "print(res.brand, res.model)"
   ]
  },
  {
   "cell_type": "code",
   "execution_count": 17,
   "metadata": {},
   "outputs": [
    {
     "name": "stdout",
     "output_type": "stream",
     "text": [
      "You rolled: 5\n",
      "Computer rolled: 1\n",
      "You win!\n"
     ]
    }
   ],
   "source": [
    "import random\n",
    "\n",
    "def dice_game():\n",
    "    player_roll = random.randint(1, 6)  \n",
    "    computer_roll = random.randint(1, 6)  \n",
    "    \n",
    "    print(f\"You rolled: {player_roll}\")\n",
    "    print(f\"Computer rolled: {computer_roll}\")\n",
    "    \n",
    "    if player_roll > computer_roll:\n",
    "        print(\"You win!\")\n",
    "    elif player_roll < computer_roll:\n",
    "        print(\"Computer wins!\")\n",
    "    else:\n",
    "        print(\"It's a tie!\")\n",
    "\n",
    "# Call the method to start the game\n",
    "dice_game()"
   ]
  },
  {
   "cell_type": "code",
   "execution_count": 19,
   "metadata": {},
   "outputs": [
    {
     "name": "stdout",
     "output_type": "stream",
     "text": [
      "Number of objects created: 2\n"
     ]
    }
   ],
   "source": [
    "def count_objects(cls):\n",
    "    cls._count = 0  # Initialize object count\n",
    "    \n",
    "    original_init = cls.__init__\n",
    "    \n",
    "    def new_init(self, *args, **kwargs):\n",
    "        cls._count += 1  # Increment object count\n",
    "        original_init(self, *args, **kwargs)  # Call the original __init__ method\n",
    "    \n",
    "    cls.__init__ = new_init\n",
    "    return cls\n",
    "\n",
    "@count_objects\n",
    "class MyClass:\n",
    "    def __init__(self, name):\n",
    "        self.name = name\n",
    "\n",
    "    @classmethod\n",
    "    def print_object_count(cls):\n",
    "        print(f\"Number of objects created: {cls._count}\")\n",
    "\n",
    "# Create instances of MyClass\n",
    "obj1 = MyClass(\"Object 1\")\n",
    "obj2 = MyClass(\"Object 2\")\n",
    "obj3 = MyClass(\"Object 3\")\n",
    "\n",
    "# Call the method to print the number of objects\n",
    "MyClass.print_object_count()\n"
   ]
  },
  {
   "cell_type": "code",
   "execution_count": 20,
   "metadata": {},
   "outputs": [
    {
     "name": "stdout",
     "output_type": "stream",
     "text": [
      "Name: Alice, Age: 28, Salary: 60000\n"
     ]
    }
   ],
   "source": [
    "class Person:\n",
    "    def __init__(self, name, age):\n",
    "        self.name = name\n",
    "        self.age = age\n",
    "\n",
    "class Employee:\n",
    "    def __init__(self, person, salary):\n",
    "        self.name = person.name  \n",
    "        self.age = person.age    \n",
    "        self.salary = salary\n",
    "\n",
    "    def display_employee_info(self):\n",
    "        print(f\"Name: {self.name}, Age: {self.age}, Salary: {self.salary}\")\n",
    "\n",
    "person = Person(\"Alice\", 28)\n",
    "employee = Employee(person, 60000)\n",
    "\n",
    "employee.display_employee_info()\n"
   ]
  },
  {
   "cell_type": "code",
   "execution_count": 21,
   "metadata": {},
   "outputs": [
    {
     "name": "stdout",
     "output_type": "stream",
     "text": [
      "MRO for class D: (<class '__main__.D'>, <class '__main__.B'>, <class '__main__.C'>, <class '__main__.A'>, <class 'object'>)\n",
      "Class B\n"
     ]
    }
   ],
   "source": [
    "class A:\n",
    "    def show(self):\n",
    "        print(\"Class A\")\n",
    "\n",
    "class B(A):\n",
    "    def show(self):\n",
    "        print(\"Class B\")\n",
    "\n",
    "class C(A):\n",
    "    def show(self):\n",
    "        print(\"Class C\")\n",
    "\n",
    "class D(B, C):\n",
    "    pass\n",
    "\n",
    "def print_mro():\n",
    "    print(\"MRO for class D:\", D.__mro__)\n",
    "    instance = D()\n",
    "    instance.show()\n",
    "\n",
    "# Call the method to print the MRO and output of `show`\n",
    "print_mro()\n"
   ]
  },
  {
   "cell_type": "code",
   "execution_count": 22,
   "metadata": {},
   "outputs": [
    {
     "name": "stdout",
     "output_type": "stream",
     "text": [
      "Method from Class B\n"
     ]
    }
   ],
   "source": [
    "class A:\n",
    "    def show(self):\n",
    "        print(\"Method from Class A\")\n",
    "\n",
    "class B(A):\n",
    "    def show(self):\n",
    "        print(\"Method from Class B\")\n",
    "\n",
    "class C(A):\n",
    "    def show(self):\n",
    "        print(\"Method from Class C\")\n",
    "\n",
    "class D(B, C):\n",
    "    def show_b(self):\n",
    "        # Explicitly call the show method of Class B\n",
    "        B.show(self)\n",
    "\n",
    "def print_output():\n",
    "    instance = D()\n",
    "    instance.show_b()  # Calls the show method from Class B\n",
    "\n",
    "# Call the method to print the output\n",
    "print_output()\n"
   ]
  },
  {
   "cell_type": "code",
   "execution_count": 24,
   "metadata": {},
   "outputs": [
    {
     "name": "stdout",
     "output_type": "stream",
     "text": [
      "10 -> 20 -> 30 -> None\n"
     ]
    }
   ],
   "source": [
    "class Node:\n",
    "    def __init__(self, data):\n",
    "        self.data = data\n",
    "        self.next = None\n",
    "\n",
    "class LinkedList:\n",
    "    def __init__(self):\n",
    "        self.head = None\n",
    "\n",
    "    def append(self, data):\n",
    "        new_node = Node(data)\n",
    "        if self.head is None:\n",
    "            self.head = new_node\n",
    "            return\n",
    "        last = self.head\n",
    "        while last.next:\n",
    "            last = last.next\n",
    "        last.next = new_node\n",
    "\n",
    "    def traverse(self):\n",
    "        current = self.head\n",
    "        while current:\n",
    "            print(current.data, end=' -> ')\n",
    "            current = current.next\n",
    "        print('None')\n",
    "\n",
    "# Example usage:\n",
    "if __name__ == \"__main__\":\n",
    "    # Create a linked list and append some nodes\n",
    "    linked_list = LinkedList()\n",
    "    linked_list.append(10)\n",
    "    linked_list.append(20)\n",
    "    linked_list.append(30)\n",
    "    \n",
    "    # Traverse the linked list\n",
    "    linked_list.traverse()\n"
   ]
  },
  {
   "cell_type": "code",
   "execution_count": 25,
   "metadata": {},
   "outputs": [
    {
     "name": "stdout",
     "output_type": "stream",
     "text": [
      "Original list:\n",
      "10 -> 20 -> 30 -> None\n",
      "After appending 40:\n",
      "10 -> 20 -> 30 -> 40 -> None\n",
      "After inserting 25 at position 2:\n",
      "10 -> 20 -> 25 -> 30 -> 40 -> None\n",
      "After inserting 5 at position 0:\n",
      "5 -> 10 -> 20 -> 25 -> 30 -> 40 -> None\n"
     ]
    }
   ],
   "source": [
    "class Node:\n",
    "    def __init__(self, data):\n",
    "        self.data = data\n",
    "        self.next = None\n",
    "\n",
    "class LinkedList:\n",
    "    def __init__(self):\n",
    "        self.head = None\n",
    "\n",
    "    def append(self, data):\n",
    "        \"\"\"Insert a node at the end of the list.\"\"\"\n",
    "        new_node = Node(data)\n",
    "        if self.head is None:\n",
    "            self.head = new_node\n",
    "            return\n",
    "        last = self.head\n",
    "        while last.next:\n",
    "            last = last.next\n",
    "        last.next = new_node\n",
    "\n",
    "    def insert_at_position(self, data, position):\n",
    "        \"\"\"Insert a node at a specific position in the list.\"\"\"\n",
    "        new_node = Node(data)\n",
    "        if position == 0:\n",
    "            new_node.next = self.head\n",
    "            self.head = new_node\n",
    "            return\n",
    "        \n",
    "        current = self.head\n",
    "        index = 0\n",
    "        while current is not None and index < position - 1:\n",
    "            current = current.next\n",
    "            index += 1\n",
    "        \n",
    "        if current is None:\n",
    "            print(\"Position out of bounds.\")\n",
    "            return\n",
    "        \n",
    "        new_node.next = current.next\n",
    "        current.next = new_node\n",
    "\n",
    "    def traverse(self):\n",
    "        \"\"\"Traverse the linked list and print all nodes.\"\"\"\n",
    "        current = self.head\n",
    "        while current:\n",
    "            print(current.data, end=' -> ')\n",
    "            current = current.next\n",
    "        print('None')\n",
    "\n",
    "# Example usage:\n",
    "if __name__ == \"__main__\":\n",
    "    linked_list = LinkedList()\n",
    "    linked_list.append(10)\n",
    "    linked_list.append(20)\n",
    "    linked_list.append(30)\n",
    "    \n",
    "    print(\"Original list:\")\n",
    "    linked_list.traverse()\n",
    "    \n",
    "    # Insert at the end\n",
    "    linked_list.append(40)\n",
    "    print(\"After appending 40:\")\n",
    "    linked_list.traverse()\n",
    "    \n",
    "    # Insert at position 2\n",
    "    linked_list.insert_at_position(25, 2)\n",
    "    print(\"After inserting 25 at position 2:\")\n",
    "    linked_list.traverse()\n",
    "    \n",
    "    # Insert at position 0\n",
    "    linked_list.insert_at_position(5, 0)\n",
    "    print(\"After inserting 5 at position 0:\")\n",
    "    linked_list.traverse()\n"
   ]
  },
  {
   "cell_type": "code",
   "execution_count": 27,
   "metadata": {},
   "outputs": [
    {
     "name": "stdout",
     "output_type": "stream",
     "text": [
      "3rd element from the end: 30\n"
     ]
    }
   ],
   "source": [
    "class Node:\n",
    "    def __init__(self, data):\n",
    "        self.data = data\n",
    "        self.next = None\n",
    "\n",
    "class LinkedList:\n",
    "    def __init__(self):\n",
    "        self.head = None\n",
    "\n",
    "    def append(self, data):\n",
    "        \"\"\"Insert a node at the end of the list.\"\"\"\n",
    "        new_node = Node(data)\n",
    "        if self.head is None:\n",
    "            self.head = new_node\n",
    "            return\n",
    "        last = self.head\n",
    "        while last.next:\n",
    "            last = last.next\n",
    "        last.next = new_node\n",
    "\n",
    "    def find_nth_from_end(self, n):\n",
    "        \"\"\"Find the nth node from the end in a single pass.\"\"\"\n",
    "        first = second = self.head\n",
    "        for _ in range(n):\n",
    "            if second is None:\n",
    "                return None  # The list is shorter than n\n",
    "            second = second.next\n",
    "        \n",
    "        while second:\n",
    "            first = first.next\n",
    "            second = second.next\n",
    "        \n",
    "        return first.data if first else None\n",
    "\n",
    "# Example usage:\n",
    "if __name__ == \"__main__\":\n",
    "    linked_list = LinkedList()\n",
    "    linked_list.append(10)\n",
    "    linked_list.append(20)\n",
    "    linked_list.append(30)\n",
    "    linked_list.append(40)\n",
    "    linked_list.append(50)\n",
    "    \n",
    "    # Find the 3rd element from the end\n",
    "    print(\"3rd element from the end:\", linked_list.find_nth_from_end(3))\n"
   ]
  },
  {
   "cell_type": "code",
   "execution_count": 28,
   "metadata": {},
   "outputs": [
    {
     "name": "stdout",
     "output_type": "stream",
     "text": [
      "Second highest integer: 20\n"
     ]
    }
   ],
   "source": [
    "def find_second_highest(arr):\n",
    "    if len(arr) < 2:\n",
    "        return None  # Not enough elements to determine second highest\n",
    "    \n",
    "    first, second = float('-inf'), float('-inf')\n",
    "    \n",
    "    for num in arr:\n",
    "        if num > first:\n",
    "            second = first\n",
    "            first = num\n",
    "        elif first > num > second:\n",
    "            second = num\n",
    "            \n",
    "    return second if second != float('-inf') else None\n",
    "\n",
    "# Example usage:\n",
    "arr = [10, 5, 20, 8, 30]\n",
    "print(\"Second highest integer:\", find_second_highest(arr))\n"
   ]
  },
  {
   "cell_type": "code",
   "execution_count": 33,
   "metadata": {},
   "outputs": [
    {
     "name": "stdout",
     "output_type": "stream",
     "text": [
      "Sorted string in descending order: trpllhhbaaaa\n"
     ]
    }
   ],
   "source": [
    "def sort_string_desc(s):\n",
    "    return ''.join(sorted(s, reverse=True))\n",
    "\n",
    "# Example usage:\n",
    "s = \"bharathpalla\"\n",
    "print(\"Sorted string in descending order:\", sort_string_desc(s))\n"
   ]
  },
  {
   "cell_type": "code",
   "execution_count": 34,
   "metadata": {},
   "outputs": [
    {
     "name": "stdout",
     "output_type": "stream",
     "text": [
      "*****\n",
      "****\n",
      "***\n",
      "**\n",
      "*\n"
     ]
    }
   ],
   "source": [
    "def right_inverted_half_pyramid(rows):\n",
    "    for i in range(rows, 0, -1):\n",
    "        print('*' * i)\n",
    "\n",
    "# Example usage:\n",
    "right_inverted_half_pyramid(5)\n"
   ]
  },
  {
   "cell_type": "code",
   "execution_count": 35,
   "metadata": {},
   "outputs": [
    {
     "name": "stdout",
     "output_type": "stream",
     "text": [
      "{'first': {'name': 'Alice', 'age': 25}, 'second': {'name': 'Bob', 'age': 30}, 'third': {'name': 'Charlie', 'age': 35}}\n",
      "Name from 'second': Bob\n"
     ]
    }
   ],
   "source": [
    "# Define a nested dictionary\n",
    "nested_dict = {\n",
    "    'first': {'name': 'Alice', 'age': 25},\n",
    "    'second': {'name': 'Bob', 'age': 30},\n",
    "    'third': {'name': 'Charlie', 'age': 35}\n",
    "}\n",
    "\n",
    "# Print the nested dictionary\n",
    "print(nested_dict)\n",
    "\n",
    "# Access and print a specific value\n",
    "print(\"Name from 'second':\", nested_dict['second']['name'])\n"
   ]
  },
  {
   "cell_type": "code",
   "execution_count": 37,
   "metadata": {},
   "outputs": [
    {
     "name": "stdout",
     "output_type": "stream",
     "text": [
      "explicit conversion result: 15\n"
     ]
    }
   ],
   "source": [
    "'''a=10\n",
    "b=1.5\n",
    "res = a+b \n",
    "print(\"implicit conversion result:\", res)'''\n",
    "\n",
    "val = 10\n",
    "str = \"5\"\n",
    "res = val + int(str)\n",
    "print(\"explicit conversion result:\",res)"
   ]
  },
  {
   "cell_type": "code",
   "execution_count": 38,
   "metadata": {},
   "outputs": [
    {
     "name": "stdout",
     "output_type": "stream",
     "text": [
      "String contains only numbers: True\n"
     ]
    }
   ],
   "source": [
    "def is_numeric(s):\n",
    "    return s.isdigit()\n",
    "\n",
    "# Example usage:\n",
    "s = \"12345\"\n",
    "print(\"String contains only numbers:\", is_numeric(s))\n"
   ]
  },
  {
   "cell_type": "code",
   "execution_count": 1,
   "metadata": {},
   "outputs": [
    {
     "name": "stdout",
     "output_type": "stream",
     "text": [
      "6 6 6 6 "
     ]
    }
   ],
   "source": [
    "def my_func():\n",
    "    return [lambda x: x * i for i in range(4)]\n",
    "\n",
    "for f in my_func():\n",
    "    print(f(2), end=\" \")"
   ]
  }
 ],
 "metadata": {
  "kernelspec": {
   "display_name": "Python 3",
   "language": "python",
   "name": "python3"
  },
  "language_info": {
   "codemirror_mode": {
    "name": "ipython",
    "version": 3
   },
   "file_extension": ".py",
   "mimetype": "text/x-python",
   "name": "python",
   "nbconvert_exporter": "python",
   "pygments_lexer": "ipython3",
   "version": "3.12.2"
  }
 },
 "nbformat": 4,
 "nbformat_minor": 2
}
